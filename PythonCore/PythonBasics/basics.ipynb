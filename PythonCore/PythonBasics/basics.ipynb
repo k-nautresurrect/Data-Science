{
 "cells": [
  {
   "cell_type": "markdown",
   "id": "590497e2",
   "metadata": {},
   "source": [
    "### Using markup for explanation "
   ]
  },
  {
   "cell_type": "markdown",
   "id": "a3ca6322",
   "metadata": {},
   "source": [
    "#### here in jupyter notebook keep in mind that\n",
    "- order of cells matter \n",
    "- executions of cells matter"
   ]
  },
  {
   "cell_type": "code",
   "execution_count": 54,
   "id": "fde222b0",
   "metadata": {},
   "outputs": [
    {
     "name": "stdout",
     "output_type": "stream",
     "text": [
      "Hello World!\n"
     ]
    }
   ],
   "source": [
    "print(\"Hello World!\")"
   ]
  },
  {
   "cell_type": "markdown",
   "id": "51ba2143",
   "metadata": {},
   "source": [
    "// taking an input"
   ]
  },
  {
   "cell_type": "code",
   "execution_count": 60,
   "id": "e998ad93",
   "metadata": {},
   "outputs": [
    {
     "name": "stdout",
     "output_type": "stream",
     "text": [
      "5\n"
     ]
    }
   ],
   "source": [
    "a = input()"
   ]
  },
  {
   "cell_type": "code",
   "execution_count": 3,
   "id": "0cc4a28d",
   "metadata": {},
   "outputs": [
    {
     "name": "stdout",
     "output_type": "stream",
     "text": [
      "hi\n"
     ]
    }
   ],
   "source": [
    "a = input()"
   ]
  },
  {
   "cell_type": "code",
   "execution_count": 7,
   "id": "4a6897fa",
   "metadata": {},
   "outputs": [
    {
     "name": "stdout",
     "output_type": "stream",
     "text": [
      "ih there\n"
     ]
    }
   ],
   "source": [
    "print(a)"
   ]
  },
  {
   "cell_type": "code",
   "execution_count": 8,
   "id": "7963cbf0",
   "metadata": {},
   "outputs": [
    {
     "name": "stdout",
     "output_type": "stream",
     "text": [
      "<class 'str'>\n"
     ]
    }
   ],
   "source": [
    "print(type(a))"
   ]
  },
  {
   "cell_type": "code",
   "execution_count": 12,
   "id": "1a3a1b34",
   "metadata": {},
   "outputs": [],
   "source": [
    "c = str()"
   ]
  },
  {
   "cell_type": "code",
   "execution_count": 13,
   "id": "10b72055",
   "metadata": {},
   "outputs": [
    {
     "name": "stdout",
     "output_type": "stream",
     "text": [
      "\n"
     ]
    }
   ],
   "source": [
    "print(c)"
   ]
  },
  {
   "cell_type": "code",
   "execution_count": 14,
   "id": "20964b46",
   "metadata": {},
   "outputs": [],
   "source": [
    "c = '''\n",
    "hey there this is a \n",
    "paragraph not just single\n",
    "line string.\n",
    "'''"
   ]
  },
  {
   "cell_type": "code",
   "execution_count": 15,
   "id": "4cea76c3",
   "metadata": {},
   "outputs": [
    {
     "name": "stdout",
     "output_type": "stream",
     "text": [
      "\n",
      "hey there this is a \n",
      "paragraph not just single\n",
      "line string.\n",
      "\n"
     ]
    }
   ],
   "source": [
    "print(c)"
   ]
  },
  {
   "cell_type": "code",
   "execution_count": 11,
   "id": "ff1cae2d",
   "metadata": {},
   "outputs": [
    {
     "name": "stdout",
     "output_type": "stream",
     "text": [
      "31\n",
      "-11\n",
      "0\n",
      "1000000000000000000000\n",
      "0.47619047619047616\n"
     ]
    }
   ],
   "source": [
    "a = 10\n",
    "b = 21\n",
    "print(a+b)\n",
    "print(a-b)\n",
    "c = a/b\n",
    "print(a//b)\n",
    "print(a**b)\n",
    "print(a/b)"
   ]
  },
  {
   "cell_type": "markdown",
   "id": "a772f3f3",
   "metadata": {},
   "source": [
    "# Control flow"
   ]
  },
  {
   "cell_type": "code",
   "execution_count": 6,
   "id": "bff41353",
   "metadata": {},
   "outputs": [
    {
     "name": "stdout",
     "output_type": "stream",
     "text": [
      "True\n"
     ]
    }
   ],
   "source": [
    "if(True):\n",
    "    print(True)\n",
    "else:\n",
    "    print(False)"
   ]
  },
  {
   "cell_type": "code",
   "execution_count": 9,
   "id": "64dd0a3a",
   "metadata": {},
   "outputs": [
    {
     "name": "stdout",
     "output_type": "stream",
     "text": [
      "True\n"
     ]
    }
   ],
   "source": [
    "if(False):\n",
    "    print(False)\n",
    "else:\n",
    "    print(True)"
   ]
  },
  {
   "cell_type": "code",
   "execution_count": 10,
   "id": "1bec84c9",
   "metadata": {},
   "outputs": [],
   "source": [
    "if(0):\n",
    "    print(True)"
   ]
  },
  {
   "cell_type": "code",
   "execution_count": 11,
   "id": "10f25be2",
   "metadata": {},
   "outputs": [
    {
     "name": "stdout",
     "output_type": "stream",
     "text": [
      "True\n"
     ]
    }
   ],
   "source": [
    "if(1):\n",
    "    print(True)"
   ]
  },
  {
   "cell_type": "code",
   "execution_count": 12,
   "id": "003b7f26",
   "metadata": {},
   "outputs": [
    {
     "name": "stdout",
     "output_type": "stream",
     "text": [
      "True\n"
     ]
    }
   ],
   "source": [
    "if(-1):\n",
    "    print(True)"
   ]
  },
  {
   "cell_type": "markdown",
   "id": "07b7e066",
   "metadata": {},
   "source": [
    "### Indentation\n",
    "- indentation is defined as 1 tab, 2 spaces, 4 spaces"
   ]
  },
  {
   "cell_type": "markdown",
   "id": "3bc2ad7c",
   "metadata": {},
   "source": [
    "#### using elif\n",
    "- use it if the condition are mutually exclusive\n",
    "- if we use just if statement it will check all the other statement."
   ]
  },
  {
   "cell_type": "code",
   "execution_count": 17,
   "id": "dc6eb880",
   "metadata": {},
   "outputs": [
    {
     "name": "stdout",
     "output_type": "stream",
     "text": [
      "Positive\n"
     ]
    }
   ],
   "source": [
    "a = 10\n",
    "if(a>0):\n",
    "    print(\"Positive\")\n",
    "if(a<0):\n",
    "    print(\"Negative\")\n",
    "if(a==0):\n",
    "    print(\"Zero\")"
   ]
  },
  {
   "cell_type": "code",
   "execution_count": 18,
   "id": "dda7a00a",
   "metadata": {},
   "outputs": [
    {
     "name": "stdout",
     "output_type": "stream",
     "text": [
      "Positive\n"
     ]
    }
   ],
   "source": [
    "a = 10\n",
    "if(a>0):\n",
    "    print(\"Positive\")\n",
    "elif(a==0):\n",
    "    print(\"Zero\")\n",
    "elif(a<0):\n",
    "    print(\"Negative\")"
   ]
  },
  {
   "cell_type": "markdown",
   "id": "bdb01b27",
   "metadata": {},
   "source": [
    "# Looping Statement"
   ]
  },
  {
   "cell_type": "code",
   "execution_count": 21,
   "id": "94f4c64f",
   "metadata": {},
   "outputs": [
    {
     "name": "stdout",
     "output_type": "stream",
     "text": [
      "1 2 3 4 5 6 7 8 9 10 "
     ]
    }
   ],
   "source": [
    "#while\n",
    "'''\n",
    "    1. initialization\n",
    "    2. stopage criteria\n",
    "    3. updation\n",
    "    \n",
    "'''\n",
    "i = 1  #initialization\n",
    "while(i<=10):  #stopage criteria\n",
    "    print(i,end = \" \")\n",
    "    i += 1   #updation\n",
    "# step by step in procedural form"
   ]
  },
  {
   "cell_type": "code",
   "execution_count": 25,
   "id": "eef00827",
   "metadata": {},
   "outputs": [
    {
     "name": "stdout",
     "output_type": "stream",
     "text": [
      "1 2 3 4 5 6 7 8 9 10 "
     ]
    }
   ],
   "source": [
    "# for \n",
    "'''\n",
    "    1. intialization\n",
    "    2. stopage criteria \n",
    "    3. updation\n",
    "    \n",
    "    -> iterator = which will update and initialized\n",
    "    -> itreable = which can be broken down into pieces.\n",
    "'''\n",
    "for i in range(1,11):\n",
    "    print(i,end = \" \")\n",
    "# in one line"
   ]
  },
  {
   "cell_type": "code",
   "execution_count": 27,
   "id": "974e0a94",
   "metadata": {},
   "outputs": [
    {
     "name": "stdout",
     "output_type": "stream",
     "text": [
      "p y t h o n "
     ]
    }
   ],
   "source": [
    "for i in \"python\":\n",
    "    print(i,end = \" \")"
   ]
  },
  {
   "cell_type": "code",
   "execution_count": 32,
   "id": "c54e41b8",
   "metadata": {},
   "outputs": [
    {
     "name": "stdout",
     "output_type": "stream",
     "text": [
      "n o h t y p "
     ]
    }
   ],
   "source": [
    "line = \"python\"\n",
    "for i  in range(len(line)):  # int is not itreable\n",
    "    print(line[(len(line)-1) - i],end = \" \")"
   ]
  },
  {
   "cell_type": "code",
   "execution_count": 33,
   "id": "313d7819",
   "metadata": {},
   "outputs": [
    {
     "name": "stdout",
     "output_type": "stream",
     "text": [
      "1 1 1 1 "
     ]
    }
   ],
   "source": [
    "arr = [1,1,1,1]\n",
    "for i in arr:\n",
    "    print(i, end = \" \")"
   ]
  },
  {
   "cell_type": "code",
   "execution_count": 34,
   "id": "fbb9b0e3",
   "metadata": {},
   "outputs": [
    {
     "name": "stdout",
     "output_type": "stream",
     "text": [
      "0 1 2 3 4 5 6 7 8 9 "
     ]
    }
   ],
   "source": [
    "r = 10\n",
    "for i in range(r):\n",
    "    print(i,end = \" \")"
   ]
  },
  {
   "cell_type": "code",
   "execution_count": 36,
   "id": "70588f82",
   "metadata": {},
   "outputs": [
    {
     "name": "stdout",
     "output_type": "stream",
     "text": [
      "1 2 3 4 <class 'set'>\n"
     ]
    }
   ],
   "source": [
    "d = {1,2,3,4}\n",
    "for i in d:\n",
    "    print(i, end = \" \")\n",
    "print(type(d))"
   ]
  },
  {
   "cell_type": "markdown",
   "id": "00c50e3a",
   "metadata": {},
   "source": [
    "### Pattern printing using python"
   ]
  },
  {
   "cell_type": "code",
   "execution_count": 37,
   "id": "43f3fa21",
   "metadata": {},
   "outputs": [
    {
     "name": "stdout",
     "output_type": "stream",
     "text": [
      "5\n",
      "*****\n",
      "****\n",
      "***\n",
      "**\n",
      "*\n"
     ]
    }
   ],
   "source": [
    "i = int(input())\n",
    "while(i!=0):\n",
    "    print(i * \"*\")\n",
    "    i -= 1"
   ]
  },
  {
   "cell_type": "markdown",
   "id": "34b0b237",
   "metadata": {},
   "source": [
    "### Logical Operator"
   ]
  },
  {
   "cell_type": "code",
   "execution_count": 39,
   "id": "63ba39be",
   "metadata": {},
   "outputs": [
    {
     "name": "stdout",
     "output_type": "stream",
     "text": [
      "11\n"
     ]
    }
   ],
   "source": [
    "# and or not\n",
    "# works only on the booleans value\n",
    "a = 10\n",
    "print(a + True)"
   ]
  },
  {
   "cell_type": "code",
   "execution_count": 40,
   "id": "bb44a147",
   "metadata": {},
   "outputs": [
    {
     "name": "stdout",
     "output_type": "stream",
     "text": [
      "10\n"
     ]
    }
   ],
   "source": [
    "print(a - False)"
   ]
  },
  {
   "cell_type": "code",
   "execution_count": 41,
   "id": "0c0ca76e",
   "metadata": {},
   "outputs": [
    {
     "name": "stdout",
     "output_type": "stream",
     "text": [
      "10\n"
     ]
    }
   ],
   "source": [
    "print(a + False)"
   ]
  },
  {
   "cell_type": "code",
   "execution_count": 43,
   "id": "ad2dee68",
   "metadata": {},
   "outputs": [
    {
     "name": "stdout",
     "output_type": "stream",
     "text": [
      "0\n"
     ]
    }
   ],
   "source": [
    "print(int(False))"
   ]
  },
  {
   "cell_type": "code",
   "execution_count": 44,
   "id": "62333a5d",
   "metadata": {},
   "outputs": [
    {
     "name": "stdout",
     "output_type": "stream",
     "text": [
      "1\n"
     ]
    }
   ],
   "source": [
    "print(int(True))"
   ]
  },
  {
   "cell_type": "code",
   "execution_count": 53,
   "id": "885ed80d",
   "metadata": {},
   "outputs": [
    {
     "name": "stdout",
     "output_type": "stream",
     "text": [
      "1\n",
      "True\n",
      "True\n",
      "0\n"
     ]
    }
   ],
   "source": [
    "'''\n",
    "    and or not works on the truthy and falsy list\n",
    "    not just boolean\n",
    "'''\n",
    "print(1 or 0)\n",
    "print(bool(1 or 0))\n",
    "print(bool(-4 or -4))  # gives the first value truthy value\n",
    "print(0 and 0)"
   ]
  },
  {
   "cell_type": "markdown",
   "id": "71586d89",
   "metadata": {},
   "source": [
    "| truthy list | falsy list|\n",
    "|-------------|-----------|\n",
    "| -inf to inf not 0| 0 |\n",
    "| string with any value| empty string |\n",
    "| True | false |"
   ]
  },
  {
   "cell_type": "code",
   "execution_count": null,
   "id": "a78a38b8",
   "metadata": {},
   "outputs": [],
   "source": []
  }
 ],
 "metadata": {
  "kernelspec": {
   "display_name": "Python 3",
   "language": "python",
   "name": "python3"
  },
  "language_info": {
   "codemirror_mode": {
    "name": "ipython",
    "version": 3
   },
   "file_extension": ".py",
   "mimetype": "text/x-python",
   "name": "python",
   "nbconvert_exporter": "python",
   "pygments_lexer": "ipython3",
   "version": "3.8.8"
  }
 },
 "nbformat": 4,
 "nbformat_minor": 5
}
