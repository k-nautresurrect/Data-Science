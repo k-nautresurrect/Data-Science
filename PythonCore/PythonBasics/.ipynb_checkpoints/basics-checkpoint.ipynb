{
 "cells": [
  {
   "cell_type": "markdown",
   "id": "590497e2",
   "metadata": {},
   "source": [
    "### using markup for explanation "
   ]
  },
  {
   "cell_type": "markdown",
   "id": "a3ca6322",
   "metadata": {},
   "source": [
    "#### here in jupyter notebook keep in mind that\n",
    "- order of cells matter \n",
    "- executions of cells matter"
   ]
  },
  {
   "cell_type": "code",
   "execution_count": 3,
   "id": "fde222b0",
   "metadata": {},
   "outputs": [
    {
     "name": "stdout",
     "output_type": "stream",
     "text": [
      "Hello World!\n"
     ]
    }
   ],
   "source": [
    "print(\"Hello World!\")"
   ]
  },
  {
   "cell_type": "markdown",
   "id": "51ba2143",
   "metadata": {},
   "source": [
    "// taking an input"
   ]
  },
  {
   "cell_type": "code",
   "execution_count": 6,
   "id": "e998ad93",
   "metadata": {},
   "outputs": [
    {
     "name": "stdout",
     "output_type": "stream",
     "text": [
      "ih there\n"
     ]
    }
   ],
   "source": [
    "a = input()"
   ]
  },
  {
   "cell_type": "code",
   "execution_count": 3,
   "id": "0cc4a28d",
   "metadata": {},
   "outputs": [
    {
     "name": "stdout",
     "output_type": "stream",
     "text": [
      "hi\n"
     ]
    }
   ],
   "source": [
    "a = input()"
   ]
  },
  {
   "cell_type": "code",
   "execution_count": 7,
   "id": "4a6897fa",
   "metadata": {},
   "outputs": [
    {
     "name": "stdout",
     "output_type": "stream",
     "text": [
      "ih there\n"
     ]
    }
   ],
   "source": [
    "print(a)"
   ]
  },
  {
   "cell_type": "code",
   "execution_count": 8,
   "id": "7963cbf0",
   "metadata": {},
   "outputs": [
    {
     "name": "stdout",
     "output_type": "stream",
     "text": [
      "<class 'str'>\n"
     ]
    }
   ],
   "source": [
    "print(type(a))"
   ]
  },
  {
   "cell_type": "code",
   "execution_count": 12,
   "id": "1a3a1b34",
   "metadata": {},
   "outputs": [],
   "source": [
    "c = str()"
   ]
  },
  {
   "cell_type": "code",
   "execution_count": 13,
   "id": "10b72055",
   "metadata": {},
   "outputs": [
    {
     "name": "stdout",
     "output_type": "stream",
     "text": [
      "\n"
     ]
    }
   ],
   "source": [
    "print(c)"
   ]
  },
  {
   "cell_type": "code",
   "execution_count": 14,
   "id": "20964b46",
   "metadata": {},
   "outputs": [],
   "source": [
    "c = '''\n",
    "hey there this is a \n",
    "paragraph not just single\n",
    "line string.\n",
    "'''"
   ]
  },
  {
   "cell_type": "code",
   "execution_count": 15,
   "id": "4cea76c3",
   "metadata": {},
   "outputs": [
    {
     "name": "stdout",
     "output_type": "stream",
     "text": [
      "\n",
      "hey there this is a \n",
      "paragraph not just single\n",
      "line string.\n",
      "\n"
     ]
    }
   ],
   "source": [
    "print(c)"
   ]
  },
  {
   "cell_type": "code",
   "execution_count": 11,
   "id": "ff1cae2d",
   "metadata": {},
   "outputs": [
    {
     "name": "stdout",
     "output_type": "stream",
     "text": [
      "31\n",
      "-11\n",
      "0\n",
      "1000000000000000000000\n",
      "0.47619047619047616\n"
     ]
    }
   ],
   "source": [
    "a = 10\n",
    "b = 21\n",
    "print(a+b)\n",
    "print(a-b)\n",
    "c = a/b\n",
    "print(a//b)\n",
    "print(a**b)\n",
    "print(a/b)"
   ]
  },
  {
   "cell_type": "markdown",
   "id": "6d9e2b5d",
   "metadata": {},
   "source": [
    "# Control flow"
   ]
  },
  {
   "cell_type": "code",
   "execution_count": 6,
   "id": "bff41353",
   "metadata": {},
   "outputs": [
    {
     "name": "stdout",
     "output_type": "stream",
     "text": [
      "True\n"
     ]
    }
   ],
   "source": [
    "if(True):\n",
    "    print(True)\n",
    "else:\n",
    "    print(False)"
   ]
  },
  {
   "cell_type": "code",
   "execution_count": 9,
   "id": "64dd0a3a",
   "metadata": {},
   "outputs": [
    {
     "name": "stdout",
     "output_type": "stream",
     "text": [
      "True\n"
     ]
    }
   ],
   "source": [
    "if(False):\n",
    "    print(False)\n",
    "else:\n",
    "    print(True)"
   ]
  },
  {
   "cell_type": "code",
   "execution_count": 10,
   "id": "1bec84c9",
   "metadata": {},
   "outputs": [],
   "source": [
    "if(0):\n",
    "    print(True)"
   ]
  },
  {
   "cell_type": "code",
   "execution_count": 11,
   "id": "10f25be2",
   "metadata": {},
   "outputs": [
    {
     "name": "stdout",
     "output_type": "stream",
     "text": [
      "True\n"
     ]
    }
   ],
   "source": [
    "if(1):\n",
    "    print(True)"
   ]
  },
  {
   "cell_type": "code",
   "execution_count": 12,
   "id": "003b7f26",
   "metadata": {},
   "outputs": [
    {
     "name": "stdout",
     "output_type": "stream",
     "text": [
      "True\n"
     ]
    }
   ],
   "source": [
    "if(-1):\n",
    "    print(True)"
   ]
  },
  {
   "cell_type": "markdown",
   "id": "aff4ed2a",
   "metadata": {},
   "source": [
    "### Indentation\n",
    "- indentation is defined as 1 tab, 2 spaces, 4 spaces"
   ]
  },
  {
   "cell_type": "markdown",
   "id": "b990d42d",
   "metadata": {},
   "source": [
    "#### using elif\n",
    "- use it if the condition are mutually exclusive\n",
    "- if we use just if statement it will check all the other statement."
   ]
  },
  {
   "cell_type": "code",
   "execution_count": 17,
   "id": "dc6eb880",
   "metadata": {},
   "outputs": [
    {
     "name": "stdout",
     "output_type": "stream",
     "text": [
      "Positive\n"
     ]
    }
   ],
   "source": [
    "a = 10\n",
    "if(a>0):\n",
    "    print(\"Positive\")\n",
    "if(a<0):\n",
    "    print(\"Negative\")\n",
    "if(a==0):\n",
    "    print(\"Zero\")"
   ]
  },
  {
   "cell_type": "code",
   "execution_count": 18,
   "id": "dda7a00a",
   "metadata": {},
   "outputs": [
    {
     "name": "stdout",
     "output_type": "stream",
     "text": [
      "Positive\n"
     ]
    }
   ],
   "source": [
    "a = 10\n",
    "if(a>0):\n",
    "    print(\"Positive\")\n",
    "elif(a==0):\n",
    "    print(\"Zero\")\n",
    "elif(a<0):\n",
    "    print(\"Negative\")"
   ]
  },
  {
   "cell_type": "markdown",
   "id": "96bb2a67",
   "metadata": {},
   "source": [
    "# Looping Statement"
   ]
  },
  {
   "cell_type": "code",
   "execution_count": 20,
   "id": "e63558a7",
   "metadata": {},
   "outputs": [
    {
     "name": "stdout",
     "output_type": "stream",
     "text": [
      "1\n",
      "2\n",
      "3\n",
      "4\n",
      "5\n",
      "6\n",
      "7\n",
      "8\n",
      "9\n",
      "10\n"
     ]
    }
   ],
   "source": [
    "#while\n",
    "'''\n",
    "    1. initialization\n",
    "    2. stopage criteria\n",
    "    3. updation\n",
    "    \n",
    "'''\n",
    "i = 1  #initialization\n",
    "while(i<=10):  #stopage criteria\n",
    "    print(i,end = \" \")\n",
    "    i += 1   #updation"
   ]
  },
  {
   "cell_type": "code",
   "execution_count": null,
   "id": "d2829451",
   "metadata": {},
   "outputs": [],
   "source": []
  }
 ],
 "metadata": {
  "kernelspec": {
   "display_name": "Python 3",
   "language": "python",
   "name": "python3"
  },
  "language_info": {
   "codemirror_mode": {
    "name": "ipython",
    "version": 3
   },
   "file_extension": ".py",
   "mimetype": "text/x-python",
   "name": "python",
   "nbconvert_exporter": "python",
   "pygments_lexer": "ipython3",
   "version": "3.8.8"
  }
 },
 "nbformat": 4,
 "nbformat_minor": 5
}
